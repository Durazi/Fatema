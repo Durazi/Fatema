{
  "nbformat": 4,
  "nbformat_minor": 0,
  "metadata": {
    "colab": {
      "provenance": []
    },
    "kernelspec": {
      "name": "python3",
      "display_name": "Python 3"
    },
    "language_info": {
      "name": "python"
    }
  },
  "cells": [
    {
      "cell_type": "code",
      "execution_count": 1,
      "metadata": {
        "colab": {
          "base_uri": "https://localhost:8080/"
        },
        "id": "xNwi75w-iAvS",
        "outputId": "27c58504-6b60-426b-a21b-c161bbc08a6b"
      },
      "outputs": [
        {
          "output_type": "stream",
          "name": "stdout",
          "text": [
            "Mounted at /content/drive\n"
          ]
        }
      ],
      "source": [
        "from google.colab import drive\n",
        "drive.mount('/content/drive')"
      ]
    },
    {
      "cell_type": "code",
      "source": [
        "#Preprocessing 1\n",
        "import pandas as pd\n",
        "from sklearn.impute import SimpleImputer\n",
        "# Load the dataset\n",
        "df = pd.read_csv('/content/drive/MyDrive/Colab/DataVisualization/Project/Depression Professional Dataset.csv')\n",
        "\n",
        "# Display the first few rows of the original dataset\n",
        "print(\"First few rows of the original dataset:\")\n",
        "print(df.head())\n",
        "\n",
        "# Display the statistical description of the original dataset\n",
        "print(\"\\nStatistical description of the original dataset:\")\n",
        "print(df.describe(include='all'))\n",
        "\n",
        "# Data Preprocessing and Transformation\n",
        "\n",
        "# Convert categorical columns to numerical values using one-hot encoding\n",
        "df_encoded = pd.get_dummies(df, drop_first=True)\n",
        "\n",
        "# Display the first few rows of the transformed dataset\n",
        "print(\"\\nFirst few rows of the transformed dataset:\")\n",
        "print(df_encoded.head())\n",
        "\n",
        "# Save the transformed dataset to a new CSV file\n",
        "df_encoded.to_csv('Transformed_Depression_Professional_Dataset.csv', index=False)\n"
      ],
      "metadata": {
        "colab": {
          "base_uri": "https://localhost:8080/"
        },
        "id": "pRrKcDrKioCJ",
        "outputId": "3c19acb7-e8da-44ab-8699-72e4e9d9202e"
      },
      "execution_count": 6,
      "outputs": [
        {
          "output_type": "stream",
          "name": "stdout",
          "text": [
            "First few rows of the original dataset:\n",
            "   Gender  Age  Work Pressure  Job Satisfaction Sleep Duration Dietary Habits  \\\n",
            "0  Female   37              2                 4      7-8 hours       Moderate   \n",
            "1    Male   60              4                 3      5-6 hours      Unhealthy   \n",
            "2  Female   42              2                 3      5-6 hours       Moderate   \n",
            "3  Female   44              3                 5      7-8 hours        Healthy   \n",
            "4    Male   48              4                 3      7-8 hours       Moderate   \n",
            "\n",
            "  Have you ever had suicidal thoughts ?  Work Hours  Financial Stress  \\\n",
            "0                                    No           6                 2   \n",
            "1                                   Yes           0                 4   \n",
            "2                                    No           0                 2   \n",
            "3                                   Yes           1                 2   \n",
            "4                                   Yes           6                 5   \n",
            "\n",
            "  Family History of Mental Illness Depression  \n",
            "0                               No         No  \n",
            "1                              Yes         No  \n",
            "2                               No         No  \n",
            "3                              Yes         No  \n",
            "4                              Yes         No  \n",
            "\n",
            "Statistical description of the original dataset:\n",
            "       Gender          Age  Work Pressure  Job Satisfaction Sleep Duration  \\\n",
            "count    2054  2054.000000    2054.000000       2054.000000           2054   \n",
            "unique      2          NaN            NaN               NaN              4   \n",
            "top      Male          NaN            NaN               NaN      7-8 hours   \n",
            "freq     1066          NaN            NaN               NaN            530   \n",
            "mean      NaN    42.171860       3.021908          3.015093            NaN   \n",
            "std       NaN    11.461202       1.417312          1.418432            NaN   \n",
            "min       NaN    18.000000       1.000000          1.000000            NaN   \n",
            "25%       NaN    35.000000       2.000000          2.000000            NaN   \n",
            "50%       NaN    43.000000       3.000000          3.000000            NaN   \n",
            "75%       NaN    51.750000       4.000000          4.000000            NaN   \n",
            "max       NaN    60.000000       5.000000          5.000000            NaN   \n",
            "\n",
            "       Dietary Habits Have you ever had suicidal thoughts ?   Work Hours  \\\n",
            "count            2054                                  2054  2054.000000   \n",
            "unique              3                                     2          NaN   \n",
            "top         Unhealthy                                    No          NaN   \n",
            "freq              713                                  1065          NaN   \n",
            "mean              NaN                                   NaN     5.930867   \n",
            "std               NaN                                   NaN     3.773945   \n",
            "min               NaN                                   NaN     0.000000   \n",
            "25%               NaN                                   NaN     3.000000   \n",
            "50%               NaN                                   NaN     6.000000   \n",
            "75%               NaN                                   NaN     9.000000   \n",
            "max               NaN                                   NaN    12.000000   \n",
            "\n",
            "        Financial Stress Family History of Mental Illness Depression  \n",
            "count        2054.000000                             2054       2054  \n",
            "unique               NaN                                2          2  \n",
            "top                  NaN                               No         No  \n",
            "freq                 NaN                             1046       1851  \n",
            "mean            2.978578                              NaN        NaN  \n",
            "std             1.413362                              NaN        NaN  \n",
            "min             1.000000                              NaN        NaN  \n",
            "25%             2.000000                              NaN        NaN  \n",
            "50%             3.000000                              NaN        NaN  \n",
            "75%             4.000000                              NaN        NaN  \n",
            "max             5.000000                              NaN        NaN  \n",
            "\n",
            "First few rows of the transformed dataset:\n",
            "   Age  Work Pressure  Job Satisfaction  Work Hours  Financial Stress  \\\n",
            "0   37              2                 4           6                 2   \n",
            "1   60              4                 3           0                 4   \n",
            "2   42              2                 3           0                 2   \n",
            "3   44              3                 5           1                 2   \n",
            "4   48              4                 3           6                 5   \n",
            "\n",
            "   Gender_Male  Sleep Duration_7-8 hours  Sleep Duration_Less than 5 hours  \\\n",
            "0        False                      True                             False   \n",
            "1         True                     False                             False   \n",
            "2        False                     False                             False   \n",
            "3        False                      True                             False   \n",
            "4         True                      True                             False   \n",
            "\n",
            "   Sleep Duration_More than 8 hours  Dietary Habits_Moderate  \\\n",
            "0                             False                     True   \n",
            "1                             False                    False   \n",
            "2                             False                     True   \n",
            "3                             False                    False   \n",
            "4                             False                     True   \n",
            "\n",
            "   Dietary Habits_Unhealthy  Have you ever had suicidal thoughts ?_Yes  \\\n",
            "0                     False                                      False   \n",
            "1                      True                                       True   \n",
            "2                     False                                      False   \n",
            "3                     False                                       True   \n",
            "4                     False                                       True   \n",
            "\n",
            "   Family History of Mental Illness_Yes  Depression_Yes  \n",
            "0                                 False           False  \n",
            "1                                  True           False  \n",
            "2                                 False           False  \n",
            "3                                  True           False  \n",
            "4                                  True           False  \n"
          ]
        }
      ]
    },
    {
      "cell_type": "code",
      "source": [],
      "metadata": {
        "id": "4qGMRhDRitAZ"
      },
      "execution_count": null,
      "outputs": []
    }
  ]
}